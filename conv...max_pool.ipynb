{
 "cells": [
  {
   "cell_type": "code",
   "execution_count": 2,
   "metadata": {},
   "outputs": [],
   "source": [
    "import tensorflow as tf\n",
    "import numpy as np"
   ]
  },
  {
   "cell_type": "code",
   "execution_count": 3,
   "metadata": {},
   "outputs": [],
   "source": [
    "Image = np.array([[3.0,5,3,4,1],[5,3,2,1,1],[5,1,4,1,0],[2,1,0,0,3]])\n",
    "filter11=np.array([[3.0,1,2],[1,4,5],[1,1,0]])"
   ]
  },
  {
   "cell_type": "code",
   "execution_count": 4,
   "metadata": {},
   "outputs": [
    {
     "name": "stdout",
     "output_type": "stream",
     "text": [
      "[[3. 5. 3. 4. 1.]\n",
      " [5. 3. 2. 1. 1.]\n",
      " [5. 1. 4. 1. 0.]\n",
      " [2. 1. 0. 0. 3.]]\n"
     ]
    }
   ],
   "source": [
    "print(Image)"
   ]
  },
  {
   "cell_type": "code",
   "execution_count": 5,
   "metadata": {},
   "outputs": [
    {
     "name": "stdout",
     "output_type": "stream",
     "text": [
      "[[3. 1. 2.]\n",
      " [1. 4. 5.]\n",
      " [1. 1. 0.]]\n"
     ]
    }
   ],
   "source": [
    "print(filter11)"
   ]
  },
  {
   "cell_type": "code",
   "execution_count": 14,
   "metadata": {},
   "outputs": [
    {
     "name": "stdout",
     "output_type": "stream",
     "text": [
      "(1, 4, 5, 1)\n",
      "[[[[42.]\n",
      "   [46.]\n",
      "   [42.]\n",
      "   [27.]\n",
      "   [10.]]\n",
      "\n",
      "  [[53.]\n",
      "   [53.]\n",
      "   [47.]\n",
      "   [31.]\n",
      "   [19.]]\n",
      "\n",
      "  [[38.]\n",
      "   [54.]\n",
      "   [36.]\n",
      "   [17.]\n",
      "   [ 8.]]\n",
      "\n",
      "  [[20.]\n",
      "   [30.]\n",
      "   [10.]\n",
      "   [28.]\n",
      "   [15.]]]]\n"
     ]
    }
   ],
   "source": [
    "Image_tf=tf.reshape(Image,[-1,4,5,1])\n",
    "kernel_tf=tf.reshape(filter11,[3,3,1,1])\n",
    "conv1=tf.nn.conv2d(Image_tf,kernel_tf,strides=[1,1,1,1],padding=\"SAME\")\n",
    "\n",
    "#pool1=tf.nn.max_pool(Image_tf,ksize=[1,2,2,1],strides=[1,2,2,1],padding=\"SAME\")\n",
    "with tf.Session()as sess:\n",
    "    conv1_value=sess.run(conv1)\n",
    "    pool1_value=sess.run(pool1)\n",
    "    print(conv1_value.shape)\n",
    "    print(conv1_value)\n",
    "   # print(pool1_value.shape)\n",
    "    #print(pool1_value)"
   ]
  },
  {
   "cell_type": "code",
   "execution_count": 16,
   "metadata": {},
   "outputs": [
    {
     "name": "stdout",
     "output_type": "stream",
     "text": [
      "(1, 2, 3, 1)\n",
      "[[[[5.]\n",
      "   [4.]\n",
      "   [1.]]\n",
      "\n",
      "  [[5.]\n",
      "   [4.]\n",
      "   [3.]]]]\n"
     ]
    }
   ],
   "source": [
    "Image_tf=tf.reshape(Image,[-1,4,5,1])\n",
    "kernel_tf=tf.reshape(filter11,[3,3,1,1])\n",
    "#conv1=tf.nn.conv2d(Image_tf,kernel_tf,strides=[1,1,1,1],padding=\"SAME\")\n",
    "\n",
    "pool1=tf.nn.max_pool(Image_tf,ksize=[1,2,2,1],strides=[1,2,2,1],padding=\"SAME\")\n",
    "with tf.Session()as sess:\n",
    "    conv1_value=sess.run(conv1)\n",
    "    pool1_value=sess.run(pool1)\n",
    "  #  print(conv1_value.shape)\n",
    "   # print(conv1_value)\n",
    "    print(pool1_value.shape)\n",
    "    print(pool1_value)"
   ]
  },
  {
   "cell_type": "code",
   "execution_count": null,
   "metadata": {},
   "outputs": [],
   "source": []
  },
  {
   "cell_type": "code",
   "execution_count": null,
   "metadata": {},
   "outputs": [],
   "source": []
  }
 ],
 "metadata": {
  "kernelspec": {
   "display_name": "NNlab",
   "language": "python",
   "name": "nnlab"
  },
  "language_info": {
   "codemirror_mode": {
    "name": "ipython",
    "version": 3
   },
   "file_extension": ".py",
   "mimetype": "text/x-python",
   "name": "python",
   "nbconvert_exporter": "python",
   "pygments_lexer": "ipython3",
   "version": "3.6.6"
  }
 },
 "nbformat": 4,
 "nbformat_minor": 2
}
