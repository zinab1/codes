{
 "cells": [
  {
   "cell_type": "code",
   "execution_count": 5,
   "metadata": {},
   "outputs": [],
   "source": [
    "import tensorflow as tf\n",
    "import numpy as np\n"
   ]
  },
  {
   "cell_type": "code",
   "execution_count": 6,
   "metadata": {},
   "outputs": [
    {
     "name": "stdout",
     "output_type": "stream",
     "text": [
      "[array([[2.6576352 , 2.9366384 , 2.5154169 , 0.        , 0.99271023],\n",
      "       [0.98370093, 1.203099  , 0.        , 0.47997707, 0.        ],\n",
      "       [0.79897493, 0.41228414, 0.        , 1.0483401 , 0.        ]],\n",
      "      dtype=float32), [array([[-0.14964342, -0.14964342,  1.7313321 , -1.8809755 ,  1.7313321 ],\n",
      "       [ 0.8199861 ,  0.8199861 ,  0.11457889,  0.7054072 ,  0.11457889]],\n",
      "      dtype=float32)]]\n"
     ]
    }
   ],
   "source": [
    "A,B,C,D=3,2,5,1\n",
    "x=tf.placeholder(tf.float32,shape=(A,B))\n",
    "w=tf.placeholder(tf.float32,shape=(B,C))\n",
    "b=tf.placeholder(tf.float32,shape=(C,))\n",
    "\n",
    "Q=tf.matmul(x,w)\n",
    "E=tf.maximum((Q+b),0)\n",
    "\n",
    "grad=tf.gradients(E,[w])\n",
    "\n",
    "with tf.Session()as sess:\n",
    "    values={x:np.random.randn(A,B),\n",
    "            w:np.random.randn(B,C),\n",
    "            b:np.random.randn(C,)}\n",
    "    out=sess.run([E,grad],feed_dict=values)\n",
    "    \n",
    "    #grad_value=sess.run(grad,feed_dict=values)\n",
    "    #print(grad_value)\n",
    "    \n",
    "    print(out)          \n",
    "    "
   ]
  },
  {
   "cell_type": "code",
   "execution_count": null,
   "metadata": {},
   "outputs": [],
   "source": [
    "\n"
   ]
  },
  {
   "cell_type": "code",
   "execution_count": null,
   "metadata": {},
   "outputs": [],
   "source": []
  },
  {
   "cell_type": "code",
   "execution_count": null,
   "metadata": {},
   "outputs": [],
   "source": []
  },
  {
   "cell_type": "code",
   "execution_count": null,
   "metadata": {},
   "outputs": [],
   "source": []
  }
 ],
 "metadata": {
  "kernelspec": {
   "display_name": "NNlab",
   "language": "python",
   "name": "nnlab"
  },
  "language_info": {
   "codemirror_mode": {
    "name": "ipython",
    "version": 3
   },
   "file_extension": ".py",
   "mimetype": "text/x-python",
   "name": "python",
   "nbconvert_exporter": "python",
   "pygments_lexer": "ipython3",
   "version": "3.6.6"
  }
 },
 "nbformat": 4,
 "nbformat_minor": 2
}
