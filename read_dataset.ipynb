{
 "cells": [
  {
   "cell_type": "code",
   "execution_count": 19,
   "metadata": {},
   "outputs": [],
   "source": [
    "import tensorflow as tf"
   ]
  },
  {
   "cell_type": "code",
   "execution_count": 20,
   "metadata": {},
   "outputs": [
    {
     "name": "stdout",
     "output_type": "stream",
     "text": [
      "[1. 2. 3.]\n",
      "[ 5.  2. 33.]\n",
      "[4. 5. 2.]\n"
     ]
    }
   ],
   "source": [
    "# read dataset and print from file1 \n",
    "dataset = tf.data.TextLineDataset(\"file1.txt\")\n",
    "dataset = dataset.map(lambda string: tf.string_to_number(tf.string_split([string]).values))\n",
    "\n",
    "iterator = dataset.make_one_shot_iterator()\n",
    "next_element = iterator.get_next()\n",
    "\n",
    "with tf.Session() as sess:\n",
    "   for i in range(3):\n",
    "       print(sess.run(next_element))"
   ]
  },
  {
   "cell_type": "code",
   "execution_count": 21,
   "metadata": {},
   "outputs": [],
   "source": [
    "# read dataset and print from iris (train and test) (such as above but by using function)\n",
    "def readtxt(filename):\n",
    "    dataset = tf.data.TextLineDataset(filename)\n",
    "    dataset = dataset.map(lambda string: tf.string_to_number(tf.string_split([string]).values))\n",
    "\n",
    "    iterator = dataset.make_one_shot_iterator()\n",
    "    next_element = iterator.get_next()\n",
    "    return next_element\n",
    "           \n",
    "def printdata(data,n):\n",
    "    with tf.Session() as sess:\n",
    "        for i in range(n):\n",
    "            print(sess.run(data))"
   ]
  },
  {
   "cell_type": "code",
   "execution_count": 22,
   "metadata": {},
   "outputs": [
    {
     "name": "stdout",
     "output_type": "stream",
     "text": [
      "-------training-------\n",
      "[4.9 3.  1.4 0.2]\n",
      "[7.6 3.  6.6 2.1]\n",
      "[4.9 3.1 1.5 0.1]\n",
      "-------training_label-------\n",
      "[0. 0. 1.]\n",
      "[1. 0. 0.]\n",
      "[0. 0. 1.]\n",
      "-------test-------\n",
      "[5.4 3.4 1.5 0.4]\n",
      "[5.  3.4 1.6 0.4]\n",
      "[7.1 3.  5.9 2.1]\n",
      "-------test_label-------\n",
      "[0. 0. 1.]\n",
      "[0. 0. 1.]\n",
      "[1. 0. 0.]\n"
     ]
    }
   ],
   "source": [
    "training_attributes=readtxt(\"iris_train_features.txt\")\n",
    "training_label=readtxt(\"iris_train_label.txt\")\n",
    "test_attributes=readtxt(\"iris_test_features.txt\")\n",
    "test_label=readtxt(\"iris_test_label.txt\")\n",
    "print(\"-------training-------\")\n",
    "printdata(training_attributes,3)\n",
    "print(\"-------training_label-------\")\n",
    "printdata(training_label,3)\n",
    "print(\"-------test-------\")\n",
    "printdata(test_attributes,3)\n",
    "print(\"-------test_label-------\")\n",
    "printdata(test_label,3)\n",
    "\n"
   ]
  },
  {
   "cell_type": "code",
   "execution_count": null,
   "metadata": {},
   "outputs": [],
   "source": [
    "\n",
    "        "
   ]
  },
  {
   "cell_type": "code",
   "execution_count": 15,
   "metadata": {},
   "outputs": [],
   "source": [
    "\n"
   ]
  },
  {
   "cell_type": "code",
   "execution_count": null,
   "metadata": {},
   "outputs": [],
   "source": []
  },
  {
   "cell_type": "code",
   "execution_count": null,
   "metadata": {},
   "outputs": [],
   "source": []
  }
 ],
 "metadata": {
  "kernelspec": {
   "display_name": "NNlab",
   "language": "python",
   "name": "nnlab"
  },
  "language_info": {
   "codemirror_mode": {
    "name": "ipython",
    "version": 3
   },
   "file_extension": ".py",
   "mimetype": "text/x-python",
   "name": "python",
   "nbconvert_exporter": "python",
   "pygments_lexer": "ipython3",
   "version": "3.6.6"
  }
 },
 "nbformat": 4,
 "nbformat_minor": 2
}
