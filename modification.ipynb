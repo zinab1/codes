{
 "cells": [
  {
   "cell_type": "code",
   "execution_count": 63,
   "metadata": {},
   "outputs": [],
   "source": [
    "import tensorflow as tf\n",
    "import numpy as np\n",
    "import matplotlib.pyplot as plt\n"
   ]
  },
  {
   "cell_type": "code",
   "execution_count": 64,
   "metadata": {},
   "outputs": [
    {
     "name": "stdout",
     "output_type": "stream",
     "text": [
      "[51958080.0, array([[  5291.9136 ,    913.2901 ,  -1432.5343 , ...,  -1641.6511 ,\n",
      "          7874.4697 ,   5342.004  ],\n",
      "       [ -7818.6973 ,  -8426.961  ,  -7476.406  , ...,  -7452.366  ,\n",
      "        -10946.797  ,   -315.71313],\n",
      "       [ -6869.841  ,   2141.9255 ,    578.72406, ...,    835.76587,\n",
      "         -5521.831  ,   1774.3229 ],\n",
      "       ...,\n",
      "       [  -656.7182 ,  -3619.9604 ,   -364.16537, ...,  -7929.143  ,\n",
      "         -3203.9927 ,  -6209.8154 ],\n",
      "       [ -1929.2501 ,  -6728.6025 ,   1795.2941 , ...,  -8684.954  ,\n",
      "          3505.9285 ,   2607.5464 ],\n",
      "       [  2590.2944 ,  -7097.2827 ,  -5243.4624 , ...,  -4888.6426 ,\n",
      "         -1739.2368 ,  -9653.807  ]], dtype=float32), array([[ -968.0615  ,  3531.8354  , -1864.32    , ...,  5364.052   ,\n",
      "         1976.5955  , -4806.1035  ],\n",
      "       [ 1406.685   ,  2297.2175  , -1494.9253  , ...,  4345.6367  ,\n",
      "         -744.386   , -3915.0151  ],\n",
      "       [  701.0391  ,  2617.2683  ,    95.73752 , ...,  4195.905   ,\n",
      "          450.7532  , -4064.5432  ],\n",
      "       ...,\n",
      "       [   81.16942 ,   828.2867  , -1917.9412  , ...,  5903.254   ,\n",
      "         -257.73572 , -3970.6702  ],\n",
      "       [ -228.60419 ,  1400.6405  ,    57.500412, ...,  2962.6274  ,\n",
      "         1016.5027  , -4401.561   ],\n",
      "       [ -573.4965  ,  1011.4066  ,  -723.47876 , ...,  3194.472   ,\n",
      "         1104.8961  , -4376.607   ]], dtype=float32)]\n"
     ]
    }
   ],
   "source": [
    "N,D,H=64,1000,100\n",
    "x=tf.placeholder(tf.float32,shape=(N,D))\n",
    "y=tf.placeholder(tf.float32,shape=(N,D))\n",
    "w1=tf.placeholder(tf.float32,shape=(D,H))\n",
    "w2=tf.placeholder(tf.float32,shape=(H,D))\n",
    "\n",
    "h=tf.maximum(tf.matmul(x,w1),0)\n",
    "y_pred=tf.matmul(h,w2)\n",
    "diff=y_pred-y\n",
    "loss=tf.reduce_mean(tf.reduce_sum(diff**2,axis=1))\n",
    "\n",
    "grad_w1,grad_w2=tf.gradients(loss,[w1,w2])\n",
    "\n",
    "with tf.Session()as sess:\n",
    "    values={x:np.random.randn(N,D),\n",
    "          w1:np.random.randn(D,H),\n",
    "          w2:np.random.randn(H,D),\n",
    "          y:np.random.randn(N,D)}\n",
    "    out=sess.run([loss,grad_w1,grad_w2],feed_dict=values)\n",
    "    loss_val,grad_w1_val,grad_w2_val=out\n",
    "    print(out)"
   ]
  },
  {
   "cell_type": "code",
   "execution_count": 56,
   "metadata": {},
   "outputs": [
    {
     "name": "stdout",
     "output_type": "stream",
     "text": [
      "[988.3517, array([[-0.50428647, -1.8799652 ,  1.6369721 , ...,  0.07390773,\n",
      "        -1.4428189 , -0.37958604],\n",
      "       [-1.4811566 , -0.711893  , -0.7554503 , ...,  0.44454086,\n",
      "        -3.5548856 , -0.7260635 ],\n",
      "       [-0.50069034, -2.9315357 , -1.3289449 , ..., -0.923193  ,\n",
      "        -0.8915973 , -2.6981194 ],\n",
      "       ...,\n",
      "       [-0.12564151,  4.2328815 ,  1.6960962 , ...,  0.35908335,\n",
      "         0.19227667,  2.5290263 ],\n",
      "       [ 0.5882663 ,  2.2232893 ,  3.5520844 , ...,  0.9140872 ,\n",
      "        -0.772231  ,  1.6114781 ],\n",
      "       [-0.78951883,  3.0494368 ,  5.1736026 , ..., -0.22632068,\n",
      "        -0.7411021 ,  2.4951215 ]], dtype=float32), array([[-0.00253897, -0.00286479,  0.00597043, ..., -0.00577776,\n",
      "         0.0033747 , -0.00096672],\n",
      "       [-0.00673246,  0.00732226,  0.01396788, ...,  0.01416834,\n",
      "         0.00161245, -0.00618638],\n",
      "       [-0.00603699,  0.01466401,  0.01537789, ...,  0.01094791,\n",
      "         0.00909456, -0.00357996],\n",
      "       ...,\n",
      "       [-0.00212431,  0.00046642,  0.01156377, ..., -0.00397108,\n",
      "         0.00429823, -0.00727185],\n",
      "       [-0.01079465,  0.00896207,  0.00564219, ...,  0.00747675,\n",
      "        -0.00787414, -0.00147037],\n",
      "       [ 0.00101369, -0.00438987, -0.00088139, ...,  0.00380585,\n",
      "         0.0023454 , -0.00667612]], dtype=float32)]\n"
     ]
    },
    {
     "data": {
      "image/png": "[encoded data removed]",
      "text/plain": [
       "<Figure size 432x288 with 1 Axes>"
      ]
     },
     "metadata": {
      "needs_background": "light"
     },
     "output_type": "display_data"
    },
    {
     "name": "stdout",
     "output_type": "stream",
     "text": [
      "48614130.0 990.50867\n"
     ]
    }
   ],
   "source": [
    "N,D,H=64,1000,100\n",
    "x=tf.placeholder(tf.float32,shape=(N,D))\n",
    "y=tf.placeholder(tf.float32,shape=(N,D))\n",
    "w1=tf.placeholder(tf.float32,shape=(D,H))\n",
    "w2=tf.placeholder(tf.float32,shape=(H,D))\n",
    "\n",
    "h=tf.maximum(tf.matmul(x,w1),0)\n",
    "y_pred=tf.matmul(h,w2)\n",
    "diff=y_pred-y\n",
    "loss=tf.reduce_mean(tf.reduce_sum(diff**2,axis=1))\n",
    "\n",
    "grad_w1,grad_w2=tf.gradients(loss,[w1,w2])\n",
    "\n",
    "with tf.Session()as sess:\n",
    "    values={x:np.random.randn(N,D),\n",
    "          w1:np.random.randn(D,H),\n",
    "          w2:np.random.randn(H,D),\n",
    "          y:np.random.randn(N,D)}\n",
    "    print(out)\n",
    "    loss_summery=[]\n",
    "    learning_rate=1e-5\n",
    "    for t in range(50):\n",
    "        out=sess.run([loss,grad_w1,grad_w2],feed_dict=values)\n",
    "        loss_val,grad_w1_val,grad_w2_val=out\n",
    "        values[w1]-=learning_rate*grad_w1_val\n",
    "        values[w2]-=learning_rate*grad_w2_val\n",
    "        loss_summery.append(loss_val)\n",
    "    plt.plot(range(50),loss_summery,'g-',label='loss_value')\n",
    "    plt.show()\n",
    "    print(loss_summery[0],loss_summery[50-1])"
   ]
  },
  {
   "cell_type": "code",
   "execution_count": 57,
   "metadata": {},
   "outputs": [
    {
     "data": {
      "image/png": "[encoded data removed]",
      "text/plain": [
       "<Figure size 432x288 with 1 Axes>"
      ]
     },
     "metadata": {
      "needs_background": "light"
     },
     "output_type": "display_data"
    },
    {
     "name": "stdout",
     "output_type": "stream",
     "text": [
      "[52045190.0] [52045190.0]\n"
     ]
    }
   ],
   "source": [
    "N,D,H=64,1000,100\n",
    "x=tf.placeholder(tf.float32,shape=(N,D))\n",
    "y=tf.placeholder(tf.float32,shape=(N,D))\n",
    "w1=tf.Variable(tf.random_normal((D,H)))\n",
    "w2=tf.Variable(tf.random_normal((H,D)))\n",
    "\n",
    "h=tf.maximum(tf.matmul(x,w1),0)\n",
    "y_pred=tf.matmul(h,w2)\n",
    "diff=y_pred-y\n",
    "loss=tf.reduce_mean(tf.reduce_sum(diff**2,axis=1))\n",
    "\n",
    "grad_w1,grad_w2=tf.gradients(loss,[w1,w2])\n",
    "\n",
    "learning_rate=1e-5\n",
    "new_w1=w1.assign(w1-learning_rate*grad_w1)\n",
    "new_w2=w2.assign(w2-learning_rate*grad_w2)\n",
    "               \n",
    "with tf.Session()as sess:\n",
    "    sess.run(tf.global_variables_initializer())\n",
    "    values={x:np.random.randn(N,D),\n",
    "            y:np.random.randn(N,D)}\n",
    "    \n",
    "    learning_rate=1e-5\n",
    "    loss_summery=[]\n",
    "    for t in range(50):\n",
    "        loss_val=sess.run([loss],feed_dict=values)\n",
    "        loss_summery.append(loss_val)\n",
    "    plt.plot(range(50),loss_summery,'g-',label='loss_value')\n",
    "    plt.show()\n",
    "    print(loss_summery[0],loss_summery[50-1])"
   ]
  },
  {
   "cell_type": "code",
   "execution_count": 58,
   "metadata": {},
   "outputs": [
    {
     "data": {
      "image/png": "[encoded data removed]",
      "text/plain": [
       "<Figure size 432x288 with 1 Axes>"
      ]
     },
     "metadata": {
      "needs_background": "light"
     },
     "output_type": "display_data"
    },
    {
     "name": "stdout",
     "output_type": "stream",
     "text": [
      "51927356.0 1124.9626\n"
     ]
    }
   ],
   "source": [
    "N,D,H=64,1000,100\n",
    "x=tf.placeholder(tf.float32,shape=(N,D))\n",
    "y=tf.placeholder(tf.float32,shape=(N,D))\n",
    "w1=tf.Variable(tf.random_normal((D,H)))\n",
    "w2=tf.Variable(tf.random_normal((H,D)))\n",
    "\n",
    "h=tf.maximum(tf.matmul(x,w1),0)\n",
    "y_pred=tf.matmul(h,w2)\n",
    "diff=y_pred-y\n",
    "loss=tf.reduce_mean(tf.reduce_sum(diff**2,axis=1))\n",
    "\n",
    "grad_w1,grad_w2=tf.gradients(loss,[w1,w2])\n",
    "\n",
    "learning_rate=1e-5\n",
    "new_w1=w1.assign(w1-learning_rate*grad_w1)\n",
    "new_w2=w2.assign(w2-learning_rate*grad_w2)\n",
    "updates=tf.group(new_w1,new_w2)               \n",
    "    \n",
    "with tf.Session()as sess:\n",
    "    sess.run(tf.global_variables_initializer())\n",
    "    values={x:np.random.randn(N,D),\n",
    "            y:np.random.randn(N,D)}\n",
    "    \n",
    "    learning_rate=1e-5\n",
    "    loss_summery=[]\n",
    "    for t in range(50):\n",
    "        loss_val,_=sess.run([loss,updates],feed_dict=values)\n",
    "        loss_summery.append(loss_val)\n",
    "    plt.plot(range(50),loss_summery,'g-',label='loss_value')\n",
    "    plt.show()\n",
    "    print(loss_summery[0],loss_summery[50-1])"
   ]
  },
  {
   "cell_type": "code",
   "execution_count": 60,
   "metadata": {
    "scrolled": true
   },
   "outputs": [
    {
     "data": {
      "image/png": "[encoded data removed]",
      "text/plain": [
       "<Figure size 432x288 with 1 Axes>"
      ]
     },
     "metadata": {
      "needs_background": "light"
     },
     "output_type": "display_data"
    },
    {
     "name": "stdout",
     "output_type": "stream",
     "text": [
      "45169750.0 1014.485\n"
     ]
    }
   ],
   "source": [
    "N,D,H=64,1000,100\n",
    "x=tf.placeholder(tf.float32,shape=(N,D))\n",
    "y=tf.placeholder(tf.float32,shape=(N,D))\n",
    "w1=tf.Variable(tf.random_normal((D,H)))\n",
    "w2=tf.Variable(tf.random_normal((H,D)))\n",
    "\n",
    "h=tf.maximum(tf.matmul(x,w1),0)\n",
    "y_pred=tf.matmul(h,w2)\n",
    "diff=y_pred-y\n",
    "loss=tf.reduce_mean(tf.reduce_sum(diff**2,axis=1))\n",
    "\n",
    "optimizer=tf.train.GradientDescentOptimizer(1e-5)\n",
    "updates=optimizer.minimize(loss)\n",
    "\n",
    "grad_w1,grad_w2=tf.gradients(loss,[w1,w2])              \n",
    "    \n",
    "with tf.Session()as sess:\n",
    "    sess.run(tf.global_variables_initializer())\n",
    "    values={x:np.random.randn(N,D),\n",
    "            y:np.random.randn(N,D)}\n",
    "    \n",
    "    #loss=[]\n",
    "    loss_summery=[]\n",
    "    for t in range(50):\n",
    "        loss_val,_=sess.run([loss,updates],feed_dict=values)\n",
    "        loss_summery.append(loss_val)\n",
    "    plt.plot(range(50),loss_summery,'g-',label='loss_value')\n",
    "    plt.show()\n",
    "    print(loss_summery[0],loss_summery[50-1])"
   ]
  },
  {
   "cell_type": "code",
   "execution_count": 61,
   "metadata": {},
   "outputs": [
    {
     "data": {
      "image/png": "[encoded data removed]",
      "text/plain": [
       "<Figure size 432x288 with 1 Axes>"
      ]
     },
     "metadata": {
      "needs_background": "light"
     },
     "output_type": "display_data"
    },
    {
     "name": "stdout",
     "output_type": "stream",
     "text": [
      "49791.492 47609.445\n"
     ]
    }
   ],
   "source": [
    "N,D,H=64,1000,100\n",
    "x=tf.placeholder(tf.float32,shape=(N,D))\n",
    "y=tf.placeholder(tf.float32,shape=(N,D))\n",
    "w1=tf.Variable(tf.random_normal((D,H)))\n",
    "w2=tf.Variable(tf.random_normal((H,D)))\n",
    "\n",
    "h=tf.maximum(tf.matmul(x,w1),0)\n",
    "y_pred=tf.matmul(h,w2)\n",
    "loss=tf.losses.mean_squared_error(y_pred,y)\n",
    "\n",
    "optimizer=tf.train.GradientDescentOptimizer(1e-5)\n",
    "updates=optimizer.minimize(loss)\n",
    "\n",
    "grad_w1,grad_w2=tf.gradients(loss,[w1,w2])              \n",
    "    \n",
    "with tf.Session()as sess:\n",
    "    sess.run(tf.global_variables_initializer())\n",
    "    values={x:np.random.randn(N,D),\n",
    "            y:np.random.randn(N,D)}\n",
    "    \n",
    "    loss_summery=[]\n",
    "    for t in range(50):\n",
    "        loss_val,_=sess.run([loss,updates],feed_dict=values)\n",
    "        loss_summery.append(loss_val)\n",
    "    plt.plot(range(50),loss_summery,'g-',label='loss_value')\n",
    "    plt.show()\n",
    "    print(loss_summery[0],loss_summery[50-1])"
   ]
  },
  {
   "cell_type": "code",
   "execution_count": 62,
   "metadata": {
    "scrolled": true
   },
   "outputs": [
    {
     "data": {
      "image/png": "[encoded data removed]",
      "text/plain": [
       "<Figure size 432x288 with 1 Axes>"
      ]
     },
     "metadata": {
      "needs_background": "light"
     },
     "output_type": "display_data"
    },
    {
     "name": "stdout",
     "output_type": "stream",
     "text": [
      "2.9270847 2.9257226\n"
     ]
    }
   ],
   "source": [
    "N,D,H=64,1000,100\n",
    "x=tf.placeholder(tf.float32,shape=(N,D))\n",
    "y=tf.placeholder(tf.float32,shape=(N,D))\n",
    "\n",
    "init=tf.variance_scaling_initializer(2.0)\n",
    "h=tf.layers.dense(inputs=x,units=H,\n",
    "                activation=tf.nn.relu,kernel_initializer=init)\n",
    "y_pred=tf.layers.dense(inputs=h,units=D,\n",
    "                     kernel_initializer=init\n",
    "                     )\n",
    "loss=tf.losses.mean_squared_error(y_pred,y)\n",
    "\n",
    "optimizer=tf.train.GradientDescentOptimizer(1e-5)\n",
    "updates=optimizer.minimize(loss)             \n",
    "    \n",
    "with tf.Session()as sess:\n",
    "    sess.run(tf.global_variables_initializer())\n",
    "    values={x:np.random.randn(N,D),\n",
    "            y:np.random.randn(N,D)}\n",
    "    \n",
    "    loss_summery=[]\n",
    "    for t in range(50):\n",
    "        loss_val,_=sess.run([loss,updates],feed_dict=values)\n",
    "        loss_summery.append(loss_val)\n",
    "    plt.plot(range(50),loss_summery,'g-',label='loss_value')\n",
    "    plt.show()\n",
    "    print(loss_summery[0],loss_summery[50-1])"
   ]
  },
  {
   "cell_type": "code",
   "execution_count": null,
   "metadata": {},
   "outputs": [],
   "source": []
  }
 ],
 "metadata": {
  "kernelspec": {
   "display_name": "NNlab",
   "language": "python",
   "name": "nnlab"
  },
  "language_info": {
   "codemirror_mode": {
    "name": "ipython",
    "version": 3
   },
   "file_extension": ".py",
   "mimetype": "text/x-python",
   "name": "python",
   "nbconvert_exporter": "python",
   "pygments_lexer": "ipython3",
   "version": "3.6.6"
  }
 },
 "nbformat": 4,
 "nbformat_minor": 2
}
